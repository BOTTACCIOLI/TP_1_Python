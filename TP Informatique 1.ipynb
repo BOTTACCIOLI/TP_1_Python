{
 "cells": [
  {
   "cell_type": "markdown",
   "metadata": {},
   "source": [
    "# TP INFORMATIQUE "
   ]
  },
  {
   "cell_type": "markdown",
   "metadata": {},
   "source": [
    "## 1. Algorithme et conversion "
   ]
  },
  {
   "cell_type": "markdown",
   "metadata": {},
   "source": [
    "Un premier exemple de conversion : \n",
    "\n",
    "Le but de cet algorithme est de convertir une durée exprimée en heures/minutes/secondes en secondes. \n",
    "\n",
    "**Compléter la ligne 2 de l'algorithme ci-dessous :**\n"
   ]
  },
  {
   "cell_type": "code",
   "execution_count": 1,
   "metadata": {},
   "outputs": [
    {
     "ename": "SyntaxError",
     "evalue": "invalid syntax (<ipython-input-1-449e47f61d2b>, line 2)",
     "output_type": "error",
     "traceback": [
      "\u001b[1;36m  File \u001b[1;32m\"<ipython-input-1-449e47f61d2b>\"\u001b[1;36m, line \u001b[1;32m2\u001b[0m\n\u001b[1;33m    dureeensecondes=\u001b[0m\n\u001b[1;37m                    ^\u001b[0m\n\u001b[1;31mSyntaxError\u001b[0m\u001b[1;31m:\u001b[0m invalid syntax\n"
     ]
    }
   ],
   "source": [
    "def conversion(h,m,s):\n",
    "    dureeensecondes=\n",
    "    print(h ,'heures', m, 'minutes et ',s, 'secondes correspondent à ',dureeensecondes, 'secondes')"
   ]
  },
  {
   "cell_type": "markdown",
   "metadata": {},
   "source": [
    "Utiliser cet algorithme pour convertir 3 heures 21 minutes et 15 secondes en secondes :"
   ]
  },
  {
   "cell_type": "code",
   "execution_count": null,
   "metadata": {},
   "outputs": [],
   "source": []
  },
  {
   "cell_type": "markdown",
   "metadata": {},
   "source": [
    "## 2. Algorithmes et pourcentages"
   ]
  },
  {
   "cell_type": "markdown",
   "metadata": {},
   "source": [
    "### 2.1 Calculer une valeur initiale"
   ]
  },
  {
   "cell_type": "markdown",
   "metadata": {},
   "source": [
    "L'algorithme ci-dessous prend en entrée un taux (exprimé en pourcentages) et une valeur finale et il calcule la valeur initiale. \n",
    "\n",
    "Il ne fonctionne pas à cause de deux erreurs de syntaxe (oublis des symboles adaptés), corriger ces erreurs. "
   ]
  },
  {
   "cell_type": "code",
   "execution_count": 4,
   "metadata": {},
   "outputs": [
    {
     "ename": "SyntaxError",
     "evalue": "invalid syntax (<ipython-input-4-a2af9f9a4690>, line 1)",
     "output_type": "error",
     "traceback": [
      "\u001b[1;36m  File \u001b[1;32m\"<ipython-input-4-a2af9f9a4690>\"\u001b[1;36m, line \u001b[1;32m1\u001b[0m\n\u001b[1;33m    def valeurinitiale(t,vf)\u001b[0m\n\u001b[1;37m                            ^\u001b[0m\n\u001b[1;31mSyntaxError\u001b[0m\u001b[1;31m:\u001b[0m invalid syntax\n"
     ]
    }
   ],
   "source": [
    "def valeurinitiale(t,vf)\n",
    "    CM=1+t/100\n",
    "    valeurinitiale=vf/CM\n",
    "    print('la valeur initiale est' valeurinitiale)"
   ]
  },
  {
   "cell_type": "markdown",
   "metadata": {},
   "source": [
    "Après l'avoir corrigé, utiliser cet algorithme pour calculer le prix non soldé d'un article coûtant 150 € après 20% de remise. "
   ]
  },
  {
   "cell_type": "code",
   "execution_count": null,
   "metadata": {},
   "outputs": [],
   "source": []
  },
  {
   "cell_type": "markdown",
   "metadata": {},
   "source": [
    "### 2.2 Calculer un taux global"
   ]
  },
  {
   "cell_type": "markdown",
   "metadata": {},
   "source": [
    "On considère l'algorithme écrit sur la feuille de consignes\n"
   ]
  },
  {
   "cell_type": "markdown",
   "metadata": {},
   "source": [
    "Quel est le but de cet algorithme ? "
   ]
  },
  {
   "cell_type": "raw",
   "metadata": {},
   "source": []
  },
  {
   "cell_type": "markdown",
   "metadata": {},
   "source": [
    "Recopier cet algorithme ci-dessous :"
   ]
  },
  {
   "cell_type": "code",
   "execution_count": null,
   "metadata": {},
   "outputs": [],
   "source": []
  },
  {
   "cell_type": "markdown",
   "metadata": {},
   "source": [
    "Utiliser cet algorithme pour déterminer le taux global correspondant à deux évolutions successives de 30%"
   ]
  },
  {
   "cell_type": "code",
   "execution_count": null,
   "metadata": {},
   "outputs": [],
   "source": []
  },
  {
   "cell_type": "markdown",
   "metadata": {},
   "source": [
    "## 3. Algorithmes et fonctions"
   ]
  },
  {
   "cell_type": "markdown",
   "metadata": {},
   "source": [
    "### 3.1 Déterminer si un point appartient à une courbe ou pas (utiliser une boucle \"si\")"
   ]
  },
  {
   "cell_type": "markdown",
   "metadata": {},
   "source": [
    "On considère la fonction définie par $f(x)=2x²+3x-1$ et on souhaite créer un algorithme qui prend en entrée les coordonnées d'un point et qui répond en sortie \"ce point appartient à la courbe de $f$\" ou \"ce point n'appartient pas à la courbe de $f$\". \n",
    "\n",
    "Compléter l'algorithme ci-dessous pour qu'il réponde à ce problème :"
   ]
  },
  {
   "cell_type": "code",
   "execution_count": 4,
   "metadata": {},
   "outputs": [
    {
     "ename": "SyntaxError",
     "evalue": "invalid syntax (<ipython-input-4-e1111e0bfe68>, line 2)",
     "output_type": "error",
     "traceback": [
      "\u001b[1;36m  File \u001b[1;32m\"<ipython-input-4-e1111e0bfe68>\"\u001b[1;36m, line \u001b[1;32m2\u001b[0m\n\u001b[1;33m    if ......:\u001b[0m\n\u001b[1;37m          ^\u001b[0m\n\u001b[1;31mSyntaxError\u001b[0m\u001b[1;31m:\u001b[0m invalid syntax\n"
     ]
    }
   ],
   "source": [
    "def pointsurcourbe(x,y):\n",
    "    if ......:\n",
    "        print()\n",
    "    else:\n",
    "        print(\"ce point n'appartient pas à la courbe de f\")"
   ]
  },
  {
   "cell_type": "markdown",
   "metadata": {},
   "source": [
    "### 3.2 Calculer le coefficient directeur d'une droite"
   ]
  },
  {
   "cell_type": "markdown",
   "metadata": {},
   "source": [
    "On rappelle la formule suivante qui a été vue dans le TD 8 : \n",
    "\n",
    "Le coefficient directeur d'une droite passant par deux points $A(x_A;y_A)$ et $B(x_B;y_B)$ avec $x_A\\ne x_B$ qui représente la pente est noté $a$, et se calcule par la formule suivante : $$a=\\frac{y_B-y_A}{x_B-x_A}$$\n",
    "\n",
    "Compléter l'algorithme ci-dessous qui prend en entrée les coordonnées de deux points $A$ et $B$ et qui calcule la pente de la droite $(AB)$ :"
   ]
  },
  {
   "cell_type": "code",
   "execution_count": 1,
   "metadata": {},
   "outputs": [
    {
     "ename": "SyntaxError",
     "evalue": "invalid syntax (<ipython-input-1-04d93cadc94e>, line 2)",
     "output_type": "error",
     "traceback": [
      "\u001b[1;36m  File \u001b[1;32m\"<ipython-input-1-04d93cadc94e>\"\u001b[1;36m, line \u001b[1;32m2\u001b[0m\n\u001b[1;33m    a=\u001b[0m\n\u001b[1;37m      ^\u001b[0m\n\u001b[1;31mSyntaxError\u001b[0m\u001b[1;31m:\u001b[0m invalid syntax\n"
     ]
    }
   ],
   "source": [
    "def pente():\n",
    "    a=\n",
    "    print()"
   ]
  },
  {
   "cell_type": "markdown",
   "metadata": {},
   "source": [
    "Utiliser cet algorithme pour déterminer le coefficient directeur de la droite $(AB)$ avec $A(2;3)$ et $B(-1;5)$"
   ]
  },
  {
   "cell_type": "code",
   "execution_count": null,
   "metadata": {},
   "outputs": [],
   "source": []
  },
  {
   "cell_type": "markdown",
   "metadata": {},
   "source": [
    "Utiliser cet algorithme pour déterminer le coefficient directeur de la droite $(AB)$ avec $A(-4;7)$ et $B(1;-2)$"
   ]
  },
  {
   "cell_type": "code",
   "execution_count": null,
   "metadata": {},
   "outputs": [],
   "source": []
  },
  {
   "cell_type": "markdown",
   "metadata": {},
   "source": [
    "### 3.3 Un exemple d'algorithme avec une boucle \"for\""
   ]
  },
  {
   "cell_type": "markdown",
   "metadata": {},
   "source": [
    "mettre un algo avec boucle for"
   ]
  },
  {
   "cell_type": "code",
   "execution_count": null,
   "metadata": {},
   "outputs": [],
   "source": []
  }
 ],
 "metadata": {
  "kernelspec": {
   "display_name": "Python 3",
   "language": "python",
   "name": "python3"
  },
  "language_info": {
   "codemirror_mode": {
    "name": "ipython",
    "version": 3
   },
   "file_extension": ".py",
   "mimetype": "text/x-python",
   "name": "python",
   "nbconvert_exporter": "python",
   "pygments_lexer": "ipython3",
   "version": "3.8.5"
  }
 },
 "nbformat": 4,
 "nbformat_minor": 4
}
